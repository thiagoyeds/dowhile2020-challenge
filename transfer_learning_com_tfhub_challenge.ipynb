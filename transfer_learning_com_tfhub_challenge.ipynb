{
  "nbformat": 4,
  "nbformat_minor": 0,
  "metadata": {
    "accelerator": "GPU",
    "colab": {
      "name": "transfer_learning_com_tfhub_challenge.ipynb",
      "private_outputs": true,
      "provenance": [],
      "collapsed_sections": [
        "W_tvPdyfA-BL"
      ]
    },
    "kernelspec": {
      "display_name": "Python 3",
      "name": "python3"
    }
  },
  "cells": [
    {
      "cell_type": "markdown",
      "metadata": {
        "id": "CKFUvuEho9Th"
      },
      "source": [
        "## Setup"
      ]
    },
    {
      "cell_type": "code",
      "metadata": {
        "id": "OGNpmn43C0O6"
      },
      "source": [
        "import numpy as np\n",
        "import time\n",
        "\n",
        "import PIL.Image as Image\n",
        "import matplotlib.pylab as plt\n",
        "\n",
        "import tensorflow as tf\n",
        "import tensorflow_hub as hub\n",
        "\n",
        "import os\n",
        "os.environ[\"TFHUB_MODEL_LOAD_FORMAT\"] = \"COMPRESSED\""
      ],
      "execution_count": null,
      "outputs": []
    },
    {
      "cell_type": "code",
      "metadata": {
        "id": "r03pNPpzMgJe"
      },
      "source": [
        "BATCH_SIZE = 32\n",
        "img_height = 224\n",
        "img_width = 224\n",
        "IMAGE_SIZE = (img_width, img_height)\n"
      ],
      "execution_count": null,
      "outputs": []
    },
    {
      "cell_type": "markdown",
      "metadata": {
        "id": "Z93vvAdGxDMD"
      },
      "source": [
        "### Dataset\n",
        "\n",
        "Usando dataset de gatos e cachorros:"
      ]
    },
    {
      "cell_type": "code",
      "metadata": {
        "id": "DrIUV3V0xDL_"
      },
      "source": [
        "data_dir = tf.keras.utils.get_file(\n",
        "  'a',\n",
        "  'https://storage.googleapis.com/mledu-datasets/cats_and_dogs_filtered.zip',\n",
        "  cache_dir='/content',\n",
        "  extract=True,\n",
        "  archive_format='zip')\n",
        "\n",
        "data_dir = '/content/datasets/cats_and_dogs_filtered'"
      ],
      "execution_count": null,
      "outputs": []
    },
    {
      "cell_type": "code",
      "metadata": {
        "id": "6yNkA3VK8Pk5"
      },
      "source": [
        "datagen_kwargs = dict(rescale=1./255, validation_split=.20)\n",
        "dataflow_kwargs = dict(target_size=IMAGE_SIZE, batch_size=BATCH_SIZE,\n",
        "                   interpolation=\"bilinear\")\n",
        "\n",
        "valid_datagen = tf.keras.preprocessing.image.ImageDataGenerator(\n",
        "    **datagen_kwargs)\n",
        "train_datagen = valid_datagen\n",
        "\n",
        "train_generator = train_datagen.flow_from_directory(\n",
        "    data_dir + '/train', subset=\"training\", shuffle=True, **dataflow_kwargs)\n",
        "\n",
        "valid_generator = valid_datagen.flow_from_directory(\n",
        "    data_dir + '/train', subset=\"validation\", shuffle=False, **dataflow_kwargs)"
      ],
      "execution_count": null,
      "outputs": []
    },
    {
      "cell_type": "code",
      "metadata": {
        "id": "AFgDHs6VEFRD"
      },
      "source": [
        "class_names = np.array([k for k in train_generator.class_indices.keys()])\n",
        "print(class_names)"
      ],
      "execution_count": null,
      "outputs": []
    },
    {
      "cell_type": "code",
      "metadata": {
        "id": "m0JyiEZ0imgf"
      },
      "source": [
        "for image_batch, labels_batch in train_generator:\n",
        "  print(image_batch.shape)\n",
        "  print(labels_batch.shape)\n",
        "  break"
      ],
      "execution_count": null,
      "outputs": []
    },
    {
      "cell_type": "markdown",
      "metadata": {
        "id": "JzV457OXreQP"
      },
      "source": [
        "### Extraindo modelo"
      ]
    },
    {
      "cell_type": "code",
      "metadata": {
        "id": "4bw8Jf94DSnP"
      },
      "source": [
        "feature_extractor_model = \"https://tfhub.dev/google/imagenet/mobilenet_v2_100_224/feature_vector/4\""
      ],
      "execution_count": null,
      "outputs": []
    },
    {
      "cell_type": "code",
      "metadata": {
        "id": "5wB030nezBwI"
      },
      "source": [
        "feature_extractor_layer = hub.KerasLayer(\n",
        "    feature_extractor_model, input_shape=(img_height, img_width, 3), trainable=False)"
      ],
      "execution_count": null,
      "outputs": []
    },
    {
      "cell_type": "code",
      "metadata": {
        "id": "Of7i-35F09ls"
      },
      "source": [
        "feature_batch = feature_extractor_layer(image_batch)\n",
        "print(feature_batch.shape)"
      ],
      "execution_count": null,
      "outputs": []
    },
    {
      "cell_type": "markdown",
      "metadata": {
        "id": "RPVeouTksO9q"
      },
      "source": [
        "### Ajustando feature extractor layer"
      ]
    },
    {
      "cell_type": "code",
      "metadata": {
        "id": "vQq_kCWzlqSu"
      },
      "source": [
        "num_classes = len(class_names)\n",
        "\n",
        "model = tf.keras.Sequential([\n",
        "  feature_extractor_layer,\n",
        "  tf.keras.layers.Dropout(0.2),\n",
        "  tf.keras.layers.Dense(train_generator.num_classes,\n",
        "                        kernel_regularizer=tf.keras.regularizers.l2(0.0001))\n",
        "])\n",
        "\n",
        "model.summary()"
      ],
      "execution_count": null,
      "outputs": []
    },
    {
      "cell_type": "code",
      "metadata": {
        "id": "IyhX4VCFmzVS"
      },
      "source": [
        "predictions = model(image_batch)"
      ],
      "execution_count": null,
      "outputs": []
    },
    {
      "cell_type": "code",
      "metadata": {
        "id": "FQdUaTkzm3jQ"
      },
      "source": [
        "predictions.shape"
      ],
      "execution_count": null,
      "outputs": []
    },
    {
      "cell_type": "markdown",
      "metadata": {
        "id": "OHbXQqIquFxQ"
      },
      "source": [
        "### Treinando o modelo\n",
        "\n",
        "Compilando modelo ..."
      ]
    },
    {
      "cell_type": "code",
      "metadata": {
        "id": "4xRx8Rjzm67O"
      },
      "source": [
        "base_learning_rate = 0.005\n",
        "model.compile(\n",
        "  optimizer=tf.keras.optimizers.SGD(lr=base_learning_rate, momentum=0.9), \n",
        "  loss=tf.keras.losses.CategoricalCrossentropy(from_logits=True, label_smoothing=0.1),\n",
        "  metrics=['accuracy'])"
      ],
      "execution_count": null,
      "outputs": []
    },
    {
      "cell_type": "markdown",
      "metadata": {
        "id": "58-BLV7dupJA"
      },
      "source": [
        "Treinando o modelo com o dataset de gatos e cachorros para somente 10 epocas"
      ]
    },
    {
      "cell_type": "code",
      "metadata": {
        "id": "GdB9iJMc-IGQ"
      },
      "source": [
        "steps_per_epoch = train_generator.samples // train_generator.batch_size\n",
        "validation_steps = valid_generator.samples // valid_generator.batch_size\n",
        "history = model.fit(\n",
        "    train_generator,\n",
        "    epochs=10, steps_per_epoch=steps_per_epoch,\n",
        "    validation_data=valid_generator,\n",
        "    validation_steps=validation_steps)"
      ],
      "execution_count": null,
      "outputs": []
    },
    {
      "cell_type": "markdown",
      "metadata": {
        "id": "Kd0N272B9Q0b"
      },
      "source": [
        "Analisando o history do treinamento"
      ]
    },
    {
      "cell_type": "code",
      "metadata": {
        "id": "fuvu039kBmFg"
      },
      "source": [
        "print(history.history)"
      ],
      "execution_count": null,
      "outputs": []
    },
    {
      "cell_type": "code",
      "metadata": {
        "id": "KA9YjvF0Onhx"
      },
      "source": [
        "history_dict = history.history\n",
        "print(history_dict.keys())\n",
        "\n",
        "acc = history_dict['accuracy']\n",
        "val_acc = history_dict['val_accuracy']\n",
        "loss = history_dict['loss']\n",
        "val_loss = history_dict['val_loss']\n",
        "\n",
        "epochs = range(1, len(acc) + 1)\n",
        "fig = plt.figure(figsize=(10, 6))\n",
        "fig.tight_layout()\n",
        "\n",
        "plt.subplot(2, 1, 1)\n",
        "# \"bo\" is for \"blue dot\"\n",
        "plt.plot(epochs, loss, 'r', label='Training loss')\n",
        "# b is for \"solid blue line\"\n",
        "plt.plot(epochs, val_loss, 'b', label='Validation loss')\n",
        "plt.title('Training and validation loss')\n",
        "# plt.xlabel('Epochs')\n",
        "plt.ylabel('Loss')\n",
        "plt.legend()\n",
        "\n",
        "plt.subplot(2, 1, 2)\n",
        "plt.plot(epochs, acc, 'r', label='Training acc')\n",
        "plt.plot(epochs, val_acc, 'b', label='Validation acc')\n",
        "plt.title('Training and validation accuracy')\n",
        "plt.xlabel('Epochs')\n",
        "plt.ylabel('Accuracy')\n",
        "plt.legend(loc='lower right')"
      ],
      "execution_count": null,
      "outputs": []
    },
    {
      "cell_type": "markdown",
      "metadata": {
        "id": "kb__ZN8uFn-D"
      },
      "source": [
        "### Chegando predições para um lote de imagens qualquer\n",
        "\n",
        "Aplicamos predict em image_batch e capturamos a maior probabilidade com a função argmax:"
      ]
    },
    {
      "cell_type": "code",
      "metadata": {
        "id": "JGbEf5l1I4jz"
      },
      "source": [
        "predicted_batch = model.predict(image_batch)\n",
        "predicted_id = np.argmax(predicted_batch, axis=-1)\n",
        "predicted_label_batch = class_names[predicted_id]"
      ],
      "execution_count": null,
      "outputs": []
    },
    {
      "cell_type": "markdown",
      "metadata": {
        "id": "CkGbZxl9GZs-"
      },
      "source": [
        "Plot dos resultados"
      ]
    },
    {
      "cell_type": "code",
      "metadata": {
        "id": "hW3Ic_ZlwtrZ"
      },
      "source": [
        "plt.figure(figsize=(15,13))\n",
        "plt.subplots_adjust(hspace=0.5)\n",
        "for n in range(32):\n",
        "  plt.subplot(6,6,n+1)\n",
        "  plt.imshow(image_batch[n])\n",
        "  plt.title(predicted_label_batch[n].title())\n",
        "  plt.axis('off')\n",
        "_ = plt.suptitle(\"Model predictions\")"
      ],
      "execution_count": null,
      "outputs": []
    },
    {
      "cell_type": "markdown",
      "metadata": {
        "id": "AoiIThV9u6j9"
      },
      "source": [
        "### Executando predições para imagens aleatorias"
      ]
    },
    {
      "cell_type": "markdown",
      "metadata": {
        "id": "QDlk1XXgu_pj"
      },
      "source": [
        "Baixando uma imagem simples de gato e cachorro\r\n",
        "\r\n"
      ]
    },
    {
      "cell_type": "code",
      "metadata": {
        "id": "oyUeydbTvECU"
      },
      "source": [
        "my_cat = tf.keras.utils.get_file('/content/sample_data/my_cat.png',\r\n",
        "                                  'https://ichef.bbci.co.uk/news/976/cpsprodpb/12A9B/production/_111434467_gettyimages-1143489763.jpg')\r\n",
        "my_cat = Image.open(my_cat).resize(IMAGE_SIZE)\r\n",
        "my_cat"
      ],
      "execution_count": null,
      "outputs": []
    },
    {
      "cell_type": "code",
      "metadata": {
        "id": "yYw8n4uD0aT8"
      },
      "source": [
        "my_dog = tf.keras.utils.get_file('/content/sample_data/my_dog.png',\r\n",
        "                                  'https://www.sciencemag.org/sites/default/files/styles/article_main_image_-_1280w__no_aspect_/public/dogs_1280p_0.jpg?itok=6jQzdNB8')\r\n",
        "my_dog = Image.open(my_dog).resize(IMAGE_SIZE)\r\n",
        "my_dog"
      ],
      "execution_count": null,
      "outputs": []
    },
    {
      "cell_type": "markdown",
      "metadata": {
        "id": "ACKBahF30q54"
      },
      "source": [
        "Normalizamos as imagens para o intervalo 0-1"
      ]
    },
    {
      "cell_type": "code",
      "metadata": {
        "id": "7jMVs68evIzz"
      },
      "source": [
        "my_cat = np.array(my_cat)/255.0\r\n",
        "my_dog = np.array(my_dog)/255.0"
      ],
      "execution_count": null,
      "outputs": []
    },
    {
      "cell_type": "markdown",
      "metadata": {
        "id": "sqj2bx-v00j8"
      },
      "source": [
        "Preditando o gato"
      ]
    },
    {
      "cell_type": "code",
      "metadata": {
        "id": "TaXrKP_jvWo9"
      },
      "source": [
        "new_prediction_1 = model.predict(my_cat[np.newaxis, ...])\r\n",
        "print(new_prediction_1)\r\n",
        "\r\n",
        "predicted_id = np.argmax(new_prediction_1, axis=-1)\r\n",
        "predicted_label = class_names[predicted_id]\r\n",
        "print(predicted_label)\r\n",
        "\r\n",
        "plt.imshow(my_cat)\r\n",
        "plt.title(predicted_label[0])"
      ],
      "execution_count": null,
      "outputs": []
    },
    {
      "cell_type": "markdown",
      "metadata": {
        "id": "peD3eU4W1YNC"
      },
      "source": [
        "Preditando o cachorro"
      ]
    },
    {
      "cell_type": "code",
      "metadata": {
        "id": "oZ3ukepx1S_2"
      },
      "source": [
        "new_prediction_2 = model.predict(my_dog[np.newaxis, ...])\r\n",
        "print(new_prediction_2)\r\n",
        "\r\n",
        "predicted_id = np.argmax(new_prediction_2, axis=-1)\r\n",
        "predicted_label = class_names[predicted_id]\r\n",
        "print(predicted_label)\r\n",
        "\r\n",
        "plt.imshow(my_dog)\r\n",
        "plt.title(predicted_label[0])"
      ],
      "execution_count": null,
      "outputs": []
    }
  ]
}